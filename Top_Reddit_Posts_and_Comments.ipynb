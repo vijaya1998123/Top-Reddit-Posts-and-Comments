{
  "cells": [
    {
      "cell_type": "code",
      "execution_count": null,
      "id": "77f75681",
      "metadata": {
        "id": "77f75681"
      },
      "outputs": [],
      "source": [
        "# Import necessary libraries\n",
        "import pandas as pd\n",
        "import numpy as np\n",
        "import seaborn as sns\n",
        "import matplotlib.pyplot as plt\n",
        "from sklearn.model_selection import train_test_split, cross_val_score, GridSearchCV\n",
        "from sklearn.linear_model import LogisticRegression\n",
        "from sklearn.metrics import classification_report, confusion_matrix, roc_curve, roc_auc_score,accuracy_score,make_scorer\n",
        "import nltk\n",
        "from nltk.corpus import stopwords\n",
        "from nltk.tokenize import word_tokenize\n",
        "from sklearn.feature_extraction.text import TfidfVectorizer\n",
        "from sklearn.model_selection import train_test_split\n",
        "from sklearn.naive_bayes import MultinomialNB\n",
        "from sklearn.metrics import confusion_matrix, classification_report"
      ]
    },
    {
      "cell_type": "markdown",
      "id": "ff960071",
      "metadata": {
        "id": "ff960071"
      },
      "source": [
        "### Loading the dataset"
      ]
    },
    {
      "cell_type": "code",
      "execution_count": null,
      "id": "5e0e4862",
      "metadata": {
        "id": "5e0e4862"
      },
      "outputs": [],
      "source": [
        "# Read in the CSV files\n",
        "comments_df = pd.read_csv('/content/Top_Posts_Comments.csv')\n",
        "posts_df = pd.read_csv('/content/Top_Posts.csv')"
      ]
    },
    {
      "cell_type": "markdown",
      "id": "034769e9",
      "metadata": {
        "id": "034769e9"
      },
      "source": [
        "# Merging two dataset"
      ]
    },
    {
      "cell_type": "code",
      "execution_count": null,
      "id": "a1cb6755",
      "metadata": {
        "colab": {
          "base_uri": "https://localhost:8080/",
          "height": 625
        },
        "id": "a1cb6755",
        "outputId": "da33b509-0bf8-4902-cb68-e52fe5fde750"
      },
      "outputs": [
        {
          "output_type": "execute_result",
          "data": {
            "text/plain": [
              "  post_id                                         post_title        subreddit  \\\n",
              "0  gh1dj9  [Project] From books to presentations in 10s w...  MachineLearning   \n",
              "1  gh1dj9  [Project] From books to presentations in 10s w...  MachineLearning   \n",
              "2  gh1dj9  [Project] From books to presentations in 10s w...  MachineLearning   \n",
              "3  gh1dj9  [Project] From books to presentations in 10s w...  MachineLearning   \n",
              "4  gh1dj9  [Project] From books to presentations in 10s w...  MachineLearning   \n",
              "\n",
              "                          post_url flair_text  score  comments  upvote_ratio  \\\n",
              "0  https://v.redd.it/v492uoheuxx41    Project   7798       186          0.99   \n",
              "1  https://v.redd.it/v492uoheuxx41    Project   7798       186          0.99   \n",
              "2  https://v.redd.it/v492uoheuxx41    Project   7798       186          0.99   \n",
              "3  https://v.redd.it/v492uoheuxx41    Project   7798       186          0.99   \n",
              "4  https://v.redd.it/v492uoheuxx41    Project   7798       186          0.99   \n",
              "\n",
              "             date-time  year  \\\n",
              "0  2020-05-10 13:19:54  2020   \n",
              "1  2020-05-10 13:19:54  2020   \n",
              "2  2020-05-10 13:19:54  2020   \n",
              "3  2020-05-10 13:19:54  2020   \n",
              "4  2020-05-10 13:19:54  2020   \n",
              "\n",
              "                                             comment  \n",
              "0  Twitter thread: [https://twitter.com/cyrildiag...  \n",
              "1                                       The future 🤯  \n",
              "2  Simple yet very useful. Thank you for sharing ...  \n",
              "3  Almost guaranteed, Apple will copy your idea i...  \n",
              "4  Ohh the nightmare of making this into a stable...  "
            ],
            "text/html": [
              "\n",
              "  <div id=\"df-7b15fa37-70dc-4882-a791-cb706d9344b6\">\n",
              "    <div class=\"colab-df-container\">\n",
              "      <div>\n",
              "<style scoped>\n",
              "    .dataframe tbody tr th:only-of-type {\n",
              "        vertical-align: middle;\n",
              "    }\n",
              "\n",
              "    .dataframe tbody tr th {\n",
              "        vertical-align: top;\n",
              "    }\n",
              "\n",
              "    .dataframe thead th {\n",
              "        text-align: right;\n",
              "    }\n",
              "</style>\n",
              "<table border=\"1\" class=\"dataframe\">\n",
              "  <thead>\n",
              "    <tr style=\"text-align: right;\">\n",
              "      <th></th>\n",
              "      <th>post_id</th>\n",
              "      <th>post_title</th>\n",
              "      <th>subreddit</th>\n",
              "      <th>post_url</th>\n",
              "      <th>flair_text</th>\n",
              "      <th>score</th>\n",
              "      <th>comments</th>\n",
              "      <th>upvote_ratio</th>\n",
              "      <th>date-time</th>\n",
              "      <th>year</th>\n",
              "      <th>comment</th>\n",
              "    </tr>\n",
              "  </thead>\n",
              "  <tbody>\n",
              "    <tr>\n",
              "      <th>0</th>\n",
              "      <td>gh1dj9</td>\n",
              "      <td>[Project] From books to presentations in 10s w...</td>\n",
              "      <td>MachineLearning</td>\n",
              "      <td>https://v.redd.it/v492uoheuxx41</td>\n",
              "      <td>Project</td>\n",
              "      <td>7798</td>\n",
              "      <td>186</td>\n",
              "      <td>0.99</td>\n",
              "      <td>2020-05-10 13:19:54</td>\n",
              "      <td>2020</td>\n",
              "      <td>Twitter thread: [https://twitter.com/cyrildiag...</td>\n",
              "    </tr>\n",
              "    <tr>\n",
              "      <th>1</th>\n",
              "      <td>gh1dj9</td>\n",
              "      <td>[Project] From books to presentations in 10s w...</td>\n",
              "      <td>MachineLearning</td>\n",
              "      <td>https://v.redd.it/v492uoheuxx41</td>\n",
              "      <td>Project</td>\n",
              "      <td>7798</td>\n",
              "      <td>186</td>\n",
              "      <td>0.99</td>\n",
              "      <td>2020-05-10 13:19:54</td>\n",
              "      <td>2020</td>\n",
              "      <td>The future 🤯</td>\n",
              "    </tr>\n",
              "    <tr>\n",
              "      <th>2</th>\n",
              "      <td>gh1dj9</td>\n",
              "      <td>[Project] From books to presentations in 10s w...</td>\n",
              "      <td>MachineLearning</td>\n",
              "      <td>https://v.redd.it/v492uoheuxx41</td>\n",
              "      <td>Project</td>\n",
              "      <td>7798</td>\n",
              "      <td>186</td>\n",
              "      <td>0.99</td>\n",
              "      <td>2020-05-10 13:19:54</td>\n",
              "      <td>2020</td>\n",
              "      <td>Simple yet very useful. Thank you for sharing ...</td>\n",
              "    </tr>\n",
              "    <tr>\n",
              "      <th>3</th>\n",
              "      <td>gh1dj9</td>\n",
              "      <td>[Project] From books to presentations in 10s w...</td>\n",
              "      <td>MachineLearning</td>\n",
              "      <td>https://v.redd.it/v492uoheuxx41</td>\n",
              "      <td>Project</td>\n",
              "      <td>7798</td>\n",
              "      <td>186</td>\n",
              "      <td>0.99</td>\n",
              "      <td>2020-05-10 13:19:54</td>\n",
              "      <td>2020</td>\n",
              "      <td>Almost guaranteed, Apple will copy your idea i...</td>\n",
              "    </tr>\n",
              "    <tr>\n",
              "      <th>4</th>\n",
              "      <td>gh1dj9</td>\n",
              "      <td>[Project] From books to presentations in 10s w...</td>\n",
              "      <td>MachineLearning</td>\n",
              "      <td>https://v.redd.it/v492uoheuxx41</td>\n",
              "      <td>Project</td>\n",
              "      <td>7798</td>\n",
              "      <td>186</td>\n",
              "      <td>0.99</td>\n",
              "      <td>2020-05-10 13:19:54</td>\n",
              "      <td>2020</td>\n",
              "      <td>Ohh the nightmare of making this into a stable...</td>\n",
              "    </tr>\n",
              "  </tbody>\n",
              "</table>\n",
              "</div>\n",
              "      <button class=\"colab-df-convert\" onclick=\"convertToInteractive('df-7b15fa37-70dc-4882-a791-cb706d9344b6')\"\n",
              "              title=\"Convert this dataframe to an interactive table.\"\n",
              "              style=\"display:none;\">\n",
              "        \n",
              "  <svg xmlns=\"http://www.w3.org/2000/svg\" height=\"24px\"viewBox=\"0 0 24 24\"\n",
              "       width=\"24px\">\n",
              "    <path d=\"M0 0h24v24H0V0z\" fill=\"none\"/>\n",
              "    <path d=\"M18.56 5.44l.94 2.06.94-2.06 2.06-.94-2.06-.94-.94-2.06-.94 2.06-2.06.94zm-11 1L8.5 8.5l.94-2.06 2.06-.94-2.06-.94L8.5 2.5l-.94 2.06-2.06.94zm10 10l.94 2.06.94-2.06 2.06-.94-2.06-.94-.94-2.06-.94 2.06-2.06.94z\"/><path d=\"M17.41 7.96l-1.37-1.37c-.4-.4-.92-.59-1.43-.59-.52 0-1.04.2-1.43.59L10.3 9.45l-7.72 7.72c-.78.78-.78 2.05 0 2.83L4 21.41c.39.39.9.59 1.41.59.51 0 1.02-.2 1.41-.59l7.78-7.78 2.81-2.81c.8-.78.8-2.07 0-2.86zM5.41 20L4 18.59l7.72-7.72 1.47 1.35L5.41 20z\"/>\n",
              "  </svg>\n",
              "      </button>\n",
              "      \n",
              "  <style>\n",
              "    .colab-df-container {\n",
              "      display:flex;\n",
              "      flex-wrap:wrap;\n",
              "      gap: 12px;\n",
              "    }\n",
              "\n",
              "    .colab-df-convert {\n",
              "      background-color: #E8F0FE;\n",
              "      border: none;\n",
              "      border-radius: 50%;\n",
              "      cursor: pointer;\n",
              "      display: none;\n",
              "      fill: #1967D2;\n",
              "      height: 32px;\n",
              "      padding: 0 0 0 0;\n",
              "      width: 32px;\n",
              "    }\n",
              "\n",
              "    .colab-df-convert:hover {\n",
              "      background-color: #E2EBFA;\n",
              "      box-shadow: 0px 1px 2px rgba(60, 64, 67, 0.3), 0px 1px 3px 1px rgba(60, 64, 67, 0.15);\n",
              "      fill: #174EA6;\n",
              "    }\n",
              "\n",
              "    [theme=dark] .colab-df-convert {\n",
              "      background-color: #3B4455;\n",
              "      fill: #D2E3FC;\n",
              "    }\n",
              "\n",
              "    [theme=dark] .colab-df-convert:hover {\n",
              "      background-color: #434B5C;\n",
              "      box-shadow: 0px 1px 3px 1px rgba(0, 0, 0, 0.15);\n",
              "      filter: drop-shadow(0px 1px 2px rgba(0, 0, 0, 0.3));\n",
              "      fill: #FFFFFF;\n",
              "    }\n",
              "  </style>\n",
              "\n",
              "      <script>\n",
              "        const buttonEl =\n",
              "          document.querySelector('#df-7b15fa37-70dc-4882-a791-cb706d9344b6 button.colab-df-convert');\n",
              "        buttonEl.style.display =\n",
              "          google.colab.kernel.accessAllowed ? 'block' : 'none';\n",
              "\n",
              "        async function convertToInteractive(key) {\n",
              "          const element = document.querySelector('#df-7b15fa37-70dc-4882-a791-cb706d9344b6');\n",
              "          const dataTable =\n",
              "            await google.colab.kernel.invokeFunction('convertToInteractive',\n",
              "                                                     [key], {});\n",
              "          if (!dataTable) return;\n",
              "\n",
              "          const docLinkHtml = 'Like what you see? Visit the ' +\n",
              "            '<a target=\"_blank\" href=https://colab.research.google.com/notebooks/data_table.ipynb>data table notebook</a>'\n",
              "            + ' to learn more about interactive tables.';\n",
              "          element.innerHTML = '';\n",
              "          dataTable['output_type'] = 'display_data';\n",
              "          await google.colab.output.renderOutput(dataTable, element);\n",
              "          const docLink = document.createElement('div');\n",
              "          docLink.innerHTML = docLinkHtml;\n",
              "          element.appendChild(docLink);\n",
              "        }\n",
              "      </script>\n",
              "    </div>\n",
              "  </div>\n",
              "  "
            ]
          },
          "metadata": {},
          "execution_count": 3
        }
      ],
      "source": [
        "# Merge the two dataframes based on the \"post_id\" column\n",
        "merged_df = pd.merge(posts_df, comments_df, on='post_id')\n",
        "merged_df.head()"
      ]
    },
    {
      "cell_type": "code",
      "execution_count": null,
      "id": "851eb145",
      "metadata": {
        "colab": {
          "base_uri": "https://localhost:8080/"
        },
        "id": "851eb145",
        "outputId": "74ae36e4-dc1e-4d6d-c253-cc4cae05f7c0"
      },
      "outputs": [
        {
          "output_type": "execute_result",
          "data": {
            "text/plain": [
              "(223168, 11)"
            ]
          },
          "metadata": {},
          "execution_count": 4
        }
      ],
      "source": [
        "# Performing Exploratory Data Analysis\n",
        "merged_df.shape"
      ]
    },
    {
      "cell_type": "code",
      "execution_count": null,
      "id": "8bef90bf",
      "metadata": {
        "id": "8bef90bf"
      },
      "outputs": [],
      "source": [
        "# Removing missing value from the comments\n",
        "merged_df=merged_df.dropna()"
      ]
    },
    {
      "cell_type": "code",
      "execution_count": null,
      "id": "d57553ce",
      "metadata": {
        "colab": {
          "base_uri": "https://localhost:8080/"
        },
        "id": "d57553ce",
        "outputId": "ad55ab6a-aef3-41df-9eb1-55306f86a3f6"
      },
      "outputs": [
        {
          "output_type": "execute_result",
          "data": {
            "text/plain": [
              "(198427, 11)"
            ]
          },
          "metadata": {},
          "execution_count": 6
        }
      ],
      "source": [
        "merged_df.shape"
      ]
    },
    {
      "cell_type": "code",
      "execution_count": null,
      "id": "5b990600",
      "metadata": {
        "colab": {
          "base_uri": "https://localhost:8080/"
        },
        "id": "5b990600",
        "outputId": "9e2b21dd-29b5-4782-8bac-060e6807c76f"
      },
      "outputs": [
        {
          "output_type": "stream",
          "name": "stderr",
          "text": [
            "[nltk_data] Downloading package stopwords to /root/nltk_data...\n",
            "[nltk_data]   Unzipping corpora/stopwords.zip.\n",
            "[nltk_data] Downloading package punkt to /root/nltk_data...\n",
            "[nltk_data]   Unzipping tokenizers/punkt.zip.\n"
          ]
        }
      ],
      "source": [
        "# Data Cleaning\n",
        "# Remove stopwords from comments column\n",
        "nltk.download('stopwords')\n",
        "nltk.download('punkt')\n",
        "# Convert all values in the 'comments' column to strings\n",
        "merged_df['comment'] = merged_df['comment'].astype(str)\n",
        "stop_words = set(stopwords.words('english'))\n",
        "merged_df['comment'] = merged_df['comment'].apply(lambda x: ' '.join([word for word in word_tokenize(x) if word.lower() not in stop_words]))\n"
      ]
    },
    {
      "cell_type": "code",
      "execution_count": null,
      "id": "efafd61e",
      "metadata": {
        "colab": {
          "base_uri": "https://localhost:8080/",
          "height": 625
        },
        "id": "efafd61e",
        "outputId": "920b14b7-29a7-47a4-b2ee-bf0850456887"
      },
      "outputs": [
        {
          "output_type": "execute_result",
          "data": {
            "text/plain": [
              "  post_id                                         post_title        subreddit  \\\n",
              "0  gh1dj9  [Project] From books to presentations in 10s w...  MachineLearning   \n",
              "1  gh1dj9  [Project] From books to presentations in 10s w...  MachineLearning   \n",
              "2  gh1dj9  [Project] From books to presentations in 10s w...  MachineLearning   \n",
              "3  gh1dj9  [Project] From books to presentations in 10s w...  MachineLearning   \n",
              "4  gh1dj9  [Project] From books to presentations in 10s w...  MachineLearning   \n",
              "\n",
              "                          post_url flair_text  score  comments  upvote_ratio  \\\n",
              "0  https://v.redd.it/v492uoheuxx41    Project   7798       186          0.99   \n",
              "1  https://v.redd.it/v492uoheuxx41    Project   7798       186          0.99   \n",
              "2  https://v.redd.it/v492uoheuxx41    Project   7798       186          0.99   \n",
              "3  https://v.redd.it/v492uoheuxx41    Project   7798       186          0.99   \n",
              "4  https://v.redd.it/v492uoheuxx41    Project   7798       186          0.99   \n",
              "\n",
              "             date-time  year  \\\n",
              "0  2020-05-10 13:19:54  2020   \n",
              "1  2020-05-10 13:19:54  2020   \n",
              "2  2020-05-10 13:19:54  2020   \n",
              "3  2020-05-10 13:19:54  2020   \n",
              "4  2020-05-10 13:19:54  2020   \n",
              "\n",
              "                                             comment  \n",
              "0  Twitter thread : [ https : //twitter.com/cyril...  \n",
              "1                                           future 🤯  \n",
              "2           Simple yet useful . Thank sharing code .  \n",
              "3  Almost guaranteed , Apple copy idea 3 , 2 , 1 ...  \n",
              "4  Ohh nightmare making stable product ... Enough...  "
            ],
            "text/html": [
              "\n",
              "  <div id=\"df-0ac1add4-6816-43e3-9715-d7f188ba222b\">\n",
              "    <div class=\"colab-df-container\">\n",
              "      <div>\n",
              "<style scoped>\n",
              "    .dataframe tbody tr th:only-of-type {\n",
              "        vertical-align: middle;\n",
              "    }\n",
              "\n",
              "    .dataframe tbody tr th {\n",
              "        vertical-align: top;\n",
              "    }\n",
              "\n",
              "    .dataframe thead th {\n",
              "        text-align: right;\n",
              "    }\n",
              "</style>\n",
              "<table border=\"1\" class=\"dataframe\">\n",
              "  <thead>\n",
              "    <tr style=\"text-align: right;\">\n",
              "      <th></th>\n",
              "      <th>post_id</th>\n",
              "      <th>post_title</th>\n",
              "      <th>subreddit</th>\n",
              "      <th>post_url</th>\n",
              "      <th>flair_text</th>\n",
              "      <th>score</th>\n",
              "      <th>comments</th>\n",
              "      <th>upvote_ratio</th>\n",
              "      <th>date-time</th>\n",
              "      <th>year</th>\n",
              "      <th>comment</th>\n",
              "    </tr>\n",
              "  </thead>\n",
              "  <tbody>\n",
              "    <tr>\n",
              "      <th>0</th>\n",
              "      <td>gh1dj9</td>\n",
              "      <td>[Project] From books to presentations in 10s w...</td>\n",
              "      <td>MachineLearning</td>\n",
              "      <td>https://v.redd.it/v492uoheuxx41</td>\n",
              "      <td>Project</td>\n",
              "      <td>7798</td>\n",
              "      <td>186</td>\n",
              "      <td>0.99</td>\n",
              "      <td>2020-05-10 13:19:54</td>\n",
              "      <td>2020</td>\n",
              "      <td>Twitter thread : [ https : //twitter.com/cyril...</td>\n",
              "    </tr>\n",
              "    <tr>\n",
              "      <th>1</th>\n",
              "      <td>gh1dj9</td>\n",
              "      <td>[Project] From books to presentations in 10s w...</td>\n",
              "      <td>MachineLearning</td>\n",
              "      <td>https://v.redd.it/v492uoheuxx41</td>\n",
              "      <td>Project</td>\n",
              "      <td>7798</td>\n",
              "      <td>186</td>\n",
              "      <td>0.99</td>\n",
              "      <td>2020-05-10 13:19:54</td>\n",
              "      <td>2020</td>\n",
              "      <td>future 🤯</td>\n",
              "    </tr>\n",
              "    <tr>\n",
              "      <th>2</th>\n",
              "      <td>gh1dj9</td>\n",
              "      <td>[Project] From books to presentations in 10s w...</td>\n",
              "      <td>MachineLearning</td>\n",
              "      <td>https://v.redd.it/v492uoheuxx41</td>\n",
              "      <td>Project</td>\n",
              "      <td>7798</td>\n",
              "      <td>186</td>\n",
              "      <td>0.99</td>\n",
              "      <td>2020-05-10 13:19:54</td>\n",
              "      <td>2020</td>\n",
              "      <td>Simple yet useful . Thank sharing code .</td>\n",
              "    </tr>\n",
              "    <tr>\n",
              "      <th>3</th>\n",
              "      <td>gh1dj9</td>\n",
              "      <td>[Project] From books to presentations in 10s w...</td>\n",
              "      <td>MachineLearning</td>\n",
              "      <td>https://v.redd.it/v492uoheuxx41</td>\n",
              "      <td>Project</td>\n",
              "      <td>7798</td>\n",
              "      <td>186</td>\n",
              "      <td>0.99</td>\n",
              "      <td>2020-05-10 13:19:54</td>\n",
              "      <td>2020</td>\n",
              "      <td>Almost guaranteed , Apple copy idea 3 , 2 , 1 ...</td>\n",
              "    </tr>\n",
              "    <tr>\n",
              "      <th>4</th>\n",
              "      <td>gh1dj9</td>\n",
              "      <td>[Project] From books to presentations in 10s w...</td>\n",
              "      <td>MachineLearning</td>\n",
              "      <td>https://v.redd.it/v492uoheuxx41</td>\n",
              "      <td>Project</td>\n",
              "      <td>7798</td>\n",
              "      <td>186</td>\n",
              "      <td>0.99</td>\n",
              "      <td>2020-05-10 13:19:54</td>\n",
              "      <td>2020</td>\n",
              "      <td>Ohh nightmare making stable product ... Enough...</td>\n",
              "    </tr>\n",
              "  </tbody>\n",
              "</table>\n",
              "</div>\n",
              "      <button class=\"colab-df-convert\" onclick=\"convertToInteractive('df-0ac1add4-6816-43e3-9715-d7f188ba222b')\"\n",
              "              title=\"Convert this dataframe to an interactive table.\"\n",
              "              style=\"display:none;\">\n",
              "        \n",
              "  <svg xmlns=\"http://www.w3.org/2000/svg\" height=\"24px\"viewBox=\"0 0 24 24\"\n",
              "       width=\"24px\">\n",
              "    <path d=\"M0 0h24v24H0V0z\" fill=\"none\"/>\n",
              "    <path d=\"M18.56 5.44l.94 2.06.94-2.06 2.06-.94-2.06-.94-.94-2.06-.94 2.06-2.06.94zm-11 1L8.5 8.5l.94-2.06 2.06-.94-2.06-.94L8.5 2.5l-.94 2.06-2.06.94zm10 10l.94 2.06.94-2.06 2.06-.94-2.06-.94-.94-2.06-.94 2.06-2.06.94z\"/><path d=\"M17.41 7.96l-1.37-1.37c-.4-.4-.92-.59-1.43-.59-.52 0-1.04.2-1.43.59L10.3 9.45l-7.72 7.72c-.78.78-.78 2.05 0 2.83L4 21.41c.39.39.9.59 1.41.59.51 0 1.02-.2 1.41-.59l7.78-7.78 2.81-2.81c.8-.78.8-2.07 0-2.86zM5.41 20L4 18.59l7.72-7.72 1.47 1.35L5.41 20z\"/>\n",
              "  </svg>\n",
              "      </button>\n",
              "      \n",
              "  <style>\n",
              "    .colab-df-container {\n",
              "      display:flex;\n",
              "      flex-wrap:wrap;\n",
              "      gap: 12px;\n",
              "    }\n",
              "\n",
              "    .colab-df-convert {\n",
              "      background-color: #E8F0FE;\n",
              "      border: none;\n",
              "      border-radius: 50%;\n",
              "      cursor: pointer;\n",
              "      display: none;\n",
              "      fill: #1967D2;\n",
              "      height: 32px;\n",
              "      padding: 0 0 0 0;\n",
              "      width: 32px;\n",
              "    }\n",
              "\n",
              "    .colab-df-convert:hover {\n",
              "      background-color: #E2EBFA;\n",
              "      box-shadow: 0px 1px 2px rgba(60, 64, 67, 0.3), 0px 1px 3px 1px rgba(60, 64, 67, 0.15);\n",
              "      fill: #174EA6;\n",
              "    }\n",
              "\n",
              "    [theme=dark] .colab-df-convert {\n",
              "      background-color: #3B4455;\n",
              "      fill: #D2E3FC;\n",
              "    }\n",
              "\n",
              "    [theme=dark] .colab-df-convert:hover {\n",
              "      background-color: #434B5C;\n",
              "      box-shadow: 0px 1px 3px 1px rgba(0, 0, 0, 0.15);\n",
              "      filter: drop-shadow(0px 1px 2px rgba(0, 0, 0, 0.3));\n",
              "      fill: #FFFFFF;\n",
              "    }\n",
              "  </style>\n",
              "\n",
              "      <script>\n",
              "        const buttonEl =\n",
              "          document.querySelector('#df-0ac1add4-6816-43e3-9715-d7f188ba222b button.colab-df-convert');\n",
              "        buttonEl.style.display =\n",
              "          google.colab.kernel.accessAllowed ? 'block' : 'none';\n",
              "\n",
              "        async function convertToInteractive(key) {\n",
              "          const element = document.querySelector('#df-0ac1add4-6816-43e3-9715-d7f188ba222b');\n",
              "          const dataTable =\n",
              "            await google.colab.kernel.invokeFunction('convertToInteractive',\n",
              "                                                     [key], {});\n",
              "          if (!dataTable) return;\n",
              "\n",
              "          const docLinkHtml = 'Like what you see? Visit the ' +\n",
              "            '<a target=\"_blank\" href=https://colab.research.google.com/notebooks/data_table.ipynb>data table notebook</a>'\n",
              "            + ' to learn more about interactive tables.';\n",
              "          element.innerHTML = '';\n",
              "          dataTable['output_type'] = 'display_data';\n",
              "          await google.colab.output.renderOutput(dataTable, element);\n",
              "          const docLink = document.createElement('div');\n",
              "          docLink.innerHTML = docLinkHtml;\n",
              "          element.appendChild(docLink);\n",
              "        }\n",
              "      </script>\n",
              "    </div>\n",
              "  </div>\n",
              "  "
            ]
          },
          "metadata": {},
          "execution_count": 8
        }
      ],
      "source": [
        "merged_df.head()"
      ]
    },
    {
      "cell_type": "markdown",
      "id": "bc668741",
      "metadata": {
        "id": "bc668741"
      },
      "source": [
        "#### Defining the feature and target variable"
      ]
    },
    {
      "cell_type": "code",
      "execution_count": null,
      "id": "06acb047",
      "metadata": {
        "id": "06acb047"
      },
      "outputs": [],
      "source": [
        "# Define the features and target\n",
        "X = merged_df['comment']\n",
        "y = merged_df['subreddit']"
      ]
    },
    {
      "cell_type": "markdown",
      "id": "ff6d3cb6",
      "metadata": {
        "id": "ff6d3cb6"
      },
      "source": [
        "### Split the data into training and testing sets"
      ]
    },
    {
      "cell_type": "code",
      "execution_count": null,
      "id": "0b542922",
      "metadata": {
        "id": "0b542922"
      },
      "outputs": [],
      "source": [
        "X_train, X_test, y_train, y_test = train_test_split(X, y, test_size=0.2, random_state=42)\n"
      ]
    },
    {
      "cell_type": "markdown",
      "id": "6eb9b925",
      "metadata": {
        "id": "6eb9b925"
      },
      "source": [
        "##### Convert text data to numerical data using TF-IDF vectorization"
      ]
    },
    {
      "cell_type": "code",
      "execution_count": null,
      "id": "b76e0cc1",
      "metadata": {
        "id": "b76e0cc1"
      },
      "outputs": [],
      "source": [
        "tfidf_vectorizer = TfidfVectorizer()\n",
        "X_train_tfidf = tfidf_vectorizer.fit_transform(X_train)\n",
        "X_test_tfidf = tfidf_vectorizer.transform(X_test)\n"
      ]
    },
    {
      "cell_type": "markdown",
      "source": [
        "## Naive Bayes"
      ],
      "metadata": {
        "id": "QbdEKww1PKvC"
      },
      "id": "QbdEKww1PKvC"
    },
    {
      "cell_type": "code",
      "execution_count": null,
      "id": "2489f768",
      "metadata": {
        "colab": {
          "base_uri": "https://localhost:8080/",
          "height": 74
        },
        "id": "2489f768",
        "outputId": "77c8af50-ff16-4008-81f3-a1979c54ba77"
      },
      "outputs": [
        {
          "output_type": "execute_result",
          "data": {
            "text/plain": [
              "MultinomialNB()"
            ],
            "text/html": [
              "<style>#sk-container-id-1 {color: black;background-color: white;}#sk-container-id-1 pre{padding: 0;}#sk-container-id-1 div.sk-toggleable {background-color: white;}#sk-container-id-1 label.sk-toggleable__label {cursor: pointer;display: block;width: 100%;margin-bottom: 0;padding: 0.3em;box-sizing: border-box;text-align: center;}#sk-container-id-1 label.sk-toggleable__label-arrow:before {content: \"▸\";float: left;margin-right: 0.25em;color: #696969;}#sk-container-id-1 label.sk-toggleable__label-arrow:hover:before {color: black;}#sk-container-id-1 div.sk-estimator:hover label.sk-toggleable__label-arrow:before {color: black;}#sk-container-id-1 div.sk-toggleable__content {max-height: 0;max-width: 0;overflow: hidden;text-align: left;background-color: #f0f8ff;}#sk-container-id-1 div.sk-toggleable__content pre {margin: 0.2em;color: black;border-radius: 0.25em;background-color: #f0f8ff;}#sk-container-id-1 input.sk-toggleable__control:checked~div.sk-toggleable__content {max-height: 200px;max-width: 100%;overflow: auto;}#sk-container-id-1 input.sk-toggleable__control:checked~label.sk-toggleable__label-arrow:before {content: \"▾\";}#sk-container-id-1 div.sk-estimator input.sk-toggleable__control:checked~label.sk-toggleable__label {background-color: #d4ebff;}#sk-container-id-1 div.sk-label input.sk-toggleable__control:checked~label.sk-toggleable__label {background-color: #d4ebff;}#sk-container-id-1 input.sk-hidden--visually {border: 0;clip: rect(1px 1px 1px 1px);clip: rect(1px, 1px, 1px, 1px);height: 1px;margin: -1px;overflow: hidden;padding: 0;position: absolute;width: 1px;}#sk-container-id-1 div.sk-estimator {font-family: monospace;background-color: #f0f8ff;border: 1px dotted black;border-radius: 0.25em;box-sizing: border-box;margin-bottom: 0.5em;}#sk-container-id-1 div.sk-estimator:hover {background-color: #d4ebff;}#sk-container-id-1 div.sk-parallel-item::after {content: \"\";width: 100%;border-bottom: 1px solid gray;flex-grow: 1;}#sk-container-id-1 div.sk-label:hover label.sk-toggleable__label {background-color: #d4ebff;}#sk-container-id-1 div.sk-serial::before {content: \"\";position: absolute;border-left: 1px solid gray;box-sizing: border-box;top: 0;bottom: 0;left: 50%;z-index: 0;}#sk-container-id-1 div.sk-serial {display: flex;flex-direction: column;align-items: center;background-color: white;padding-right: 0.2em;padding-left: 0.2em;position: relative;}#sk-container-id-1 div.sk-item {position: relative;z-index: 1;}#sk-container-id-1 div.sk-parallel {display: flex;align-items: stretch;justify-content: center;background-color: white;position: relative;}#sk-container-id-1 div.sk-item::before, #sk-container-id-1 div.sk-parallel-item::before {content: \"\";position: absolute;border-left: 1px solid gray;box-sizing: border-box;top: 0;bottom: 0;left: 50%;z-index: -1;}#sk-container-id-1 div.sk-parallel-item {display: flex;flex-direction: column;z-index: 1;position: relative;background-color: white;}#sk-container-id-1 div.sk-parallel-item:first-child::after {align-self: flex-end;width: 50%;}#sk-container-id-1 div.sk-parallel-item:last-child::after {align-self: flex-start;width: 50%;}#sk-container-id-1 div.sk-parallel-item:only-child::after {width: 0;}#sk-container-id-1 div.sk-dashed-wrapped {border: 1px dashed gray;margin: 0 0.4em 0.5em 0.4em;box-sizing: border-box;padding-bottom: 0.4em;background-color: white;}#sk-container-id-1 div.sk-label label {font-family: monospace;font-weight: bold;display: inline-block;line-height: 1.2em;}#sk-container-id-1 div.sk-label-container {text-align: center;}#sk-container-id-1 div.sk-container {/* jupyter's `normalize.less` sets `[hidden] { display: none; }` but bootstrap.min.css set `[hidden] { display: none !important; }` so we also need the `!important` here to be able to override the default hidden behavior on the sphinx rendered scikit-learn.org. See: https://github.com/scikit-learn/scikit-learn/issues/21755 */display: inline-block !important;position: relative;}#sk-container-id-1 div.sk-text-repr-fallback {display: none;}</style><div id=\"sk-container-id-1\" class=\"sk-top-container\"><div class=\"sk-text-repr-fallback\"><pre>MultinomialNB()</pre><b>In a Jupyter environment, please rerun this cell to show the HTML representation or trust the notebook. <br />On GitHub, the HTML representation is unable to render, please try loading this page with nbviewer.org.</b></div><div class=\"sk-container\" hidden><div class=\"sk-item\"><div class=\"sk-estimator sk-toggleable\"><input class=\"sk-toggleable__control sk-hidden--visually\" id=\"sk-estimator-id-1\" type=\"checkbox\" checked><label for=\"sk-estimator-id-1\" class=\"sk-toggleable__label sk-toggleable__label-arrow\">MultinomialNB</label><div class=\"sk-toggleable__content\"><pre>MultinomialNB()</pre></div></div></div></div></div>"
            ]
          },
          "metadata": {},
          "execution_count": 12
        }
      ],
      "source": [
        "# Train a Naive Bayes model\n",
        "nb = MultinomialNB()\n",
        "nb.fit(X_train_tfidf, y_train)"
      ]
    },
    {
      "cell_type": "code",
      "execution_count": null,
      "id": "a4af9cef",
      "metadata": {
        "id": "a4af9cef"
      },
      "outputs": [],
      "source": [
        "# Make predictions on the testing set\n",
        "y_pred = nb.predict(X_test_tfidf)"
      ]
    },
    {
      "cell_type": "code",
      "execution_count": null,
      "id": "299cd137",
      "metadata": {
        "colab": {
          "base_uri": "https://localhost:8080/"
        },
        "id": "299cd137",
        "outputId": "80c01182-6c20-476f-ed93-1617382a90b8"
      },
      "outputs": [
        {
          "output_type": "stream",
          "name": "stdout",
          "text": [
            "                 precision    recall  f1-score   support\n",
            "\n",
            "MachineLearning       0.71      0.71      0.71     17298\n",
            "     artificial       0.50      0.00      0.00      2642\n",
            "    datascience       0.74      0.84      0.79     19746\n",
            "\n",
            "       accuracy                           0.73     39686\n",
            "      macro avg       0.65      0.52      0.50     39686\n",
            "   weighted avg       0.71      0.73      0.70     39686\n",
            "\n",
            "[[12216     3  5079]\n",
            " [ 1810     3   829]\n",
            " [ 3080     0 16666]]\n"
          ]
        }
      ],
      "source": [
        "# Print the classification report and confusion matrix\n",
        "print(classification_report(y_test, y_pred))\n",
        "print(confusion_matrix(y_test, y_pred))"
      ]
    },
    {
      "cell_type": "code",
      "execution_count": null,
      "id": "3ac44e2f",
      "metadata": {
        "colab": {
          "base_uri": "https://localhost:8080/"
        },
        "id": "3ac44e2f",
        "outputId": "9f0ae359-a9f7-4f89-e317-020e0e3501c2"
      },
      "outputs": [
        {
          "output_type": "stream",
          "name": "stdout",
          "text": [
            "Accuracy: 72.78385324799677 %\n"
          ]
        }
      ],
      "source": [
        "acc_nb=accuracy_score(y_test, y_pred)\n",
        "print('Accuracy:', acc_nb*100,\"%\")"
      ]
    },
    {
      "cell_type": "code",
      "execution_count": null,
      "id": "1679b19b",
      "metadata": {
        "colab": {
          "base_uri": "https://localhost:8080/",
          "height": 449
        },
        "id": "1679b19b",
        "outputId": "1e01c7a3-ff53-4cd9-cfd8-cfea53ca7293"
      },
      "outputs": [
        {
          "output_type": "display_data",
          "data": {
            "text/plain": [
              "<Figure size 640x480 with 2 Axes>"
            ],
            "image/png": "[encoded data removed]"
          },
          "metadata": {}
        }
      ],
      "source": [
        "# Create confusion matrix\n",
        "cm = confusion_matrix(y_test, y_pred)\n",
        "\n",
        "# Create heatmap of confusion matrix\n",
        "sns.heatmap(cm, annot=True, cmap='Blues')\n",
        "plt.xlabel('Predicted')\n",
        "plt.ylabel('Actual')\n",
        "plt.show()"
      ]
    },
    {
      "cell_type": "code",
      "source": [
        "# Train the hyperparameter-tuned Multinomial Naive Bayes model using grid search\n",
        "nb_model = MultinomialNB()\n",
        "param_grid_nb = {\n",
        "    'alpha': [0.1, 0.5, 1.0, 1.5, 2.0],\n",
        "    'fit_prior': [True, False]\n",
        "}"
      ],
      "metadata": {
        "id": "X2CY_OLyLfzC"
      },
      "id": "X2CY_OLyLfzC",
      "execution_count": null,
      "outputs": []
    },
    {
      "cell_type": "code",
      "source": [
        "scorer_nb = make_scorer(accuracy_score)\n",
        "grid_search_nb = GridSearchCV(nb_model, param_grid=param_grid_nb, scoring=scorer_nb, cv=5)\n",
        "grid_search_nb.fit(X_train_tfidf, y_train)\n",
        "best_nb_model = MultinomialNB(**grid_search_nb.best_params_)\n",
        "best_nb_model.fit(X_train_tfidf, y_train)\n",
        "y_pred_nb_tuned = best_nb_model.predict(X_test_tfidf)"
      ],
      "metadata": {
        "id": "wcjKXhrwLwjI"
      },
      "id": "wcjKXhrwLwjI",
      "execution_count": null,
      "outputs": []
    },
    {
      "cell_type": "code",
      "source": [
        "# Calculate the accuracy score of the hyperparameter-tuned Multinomial Naive Bayes model\n",
        "acc_tuned_nb = accuracy_score(y_test, y_pred_nb_tuned)"
      ],
      "metadata": {
        "id": "431oGdkDL1RP"
      },
      "id": "431oGdkDL1RP",
      "execution_count": null,
      "outputs": []
    },
    {
      "cell_type": "code",
      "source": [
        "# Create a bar chart to compare the accuracy scores of the models\n",
        "models = ['Default Naive Bayes', 'Hyperparameter-tuned Multinomial Naive Bayes']\n",
        "accuracy_scores = [acc_nb, acc_tuned_nb]"
      ],
      "metadata": {
        "id": "UZe0c67YL1yC"
      },
      "id": "UZe0c67YL1yC",
      "execution_count": null,
      "outputs": []
    },
    {
      "cell_type": "code",
      "source": [
        "plt.bar(models, accuracy_scores, color='blue')\n",
        "plt.title('Comparison of Accuracy Scores')\n",
        "plt.xlabel('Models')\n",
        "plt.ylabel('Accuracy Score')\n",
        "plt.ylim([0, 1])\n",
        "plt.show()"
      ],
      "metadata": {
        "colab": {
          "base_uri": "https://localhost:8080/",
          "height": 472
        },
        "id": "MOze9frWL54j",
        "outputId": "54e72d5e-9413-47c0-c1d5-ae7d9dea264c"
      },
      "id": "MOze9frWL54j",
      "execution_count": null,
      "outputs": [
        {
          "output_type": "display_data",
          "data": {
            "text/plain": [
              "<Figure size 640x480 with 1 Axes>"
            ],
            "image/png": "[encoded data removed]"
          },
          "metadata": {}
        }
      ]
    },
    {
      "cell_type": "code",
      "source": [
        "# Print the accuracy scores of the models\n",
        "print(\"Accuracy score of the default decision tree model:\", acc_nb)\n",
        "print(\"Accuracy score of the hyperparameter-tuned Multinomial Naive Bayes model:\", acc_tuned_nb)"
      ],
      "metadata": {
        "colab": {
          "base_uri": "https://localhost:8080/"
        },
        "id": "X-ohZrm4MCrl",
        "outputId": "4f7ae906-a882-49ae-e790-c33eeeefc943"
      },
      "id": "X-ohZrm4MCrl",
      "execution_count": null,
      "outputs": [
        {
          "output_type": "stream",
          "name": "stdout",
          "text": [
            "Accuracy score of the default decision tree model: 0.7278385324799678\n",
            "Accuracy score of the hyperparameter-tuned Multinomial Naive Bayes model: 0.734818323842161\n"
          ]
        }
      ]
    },
    {
      "cell_type": "markdown",
      "id": "0fdd5f2f",
      "metadata": {
        "id": "0fdd5f2f"
      },
      "source": [
        "## Decision Tree Classifier"
      ]
    },
    {
      "cell_type": "code",
      "execution_count": null,
      "id": "1f6fb0f3",
      "metadata": {
        "colab": {
          "base_uri": "https://localhost:8080/",
          "height": 74
        },
        "id": "1f6fb0f3",
        "outputId": "a1ee34d1-8d6b-4540-dc2c-0a829d4842b6"
      },
      "outputs": [
        {
          "output_type": "execute_result",
          "data": {
            "text/plain": [
              "DecisionTreeClassifier(random_state=42)"
            ],
            "text/html": [
              "<style>#sk-container-id-2 {color: black;background-color: white;}#sk-container-id-2 pre{padding: 0;}#sk-container-id-2 div.sk-toggleable {background-color: white;}#sk-container-id-2 label.sk-toggleable__label {cursor: pointer;display: block;width: 100%;margin-bottom: 0;padding: 0.3em;box-sizing: border-box;text-align: center;}#sk-container-id-2 label.sk-toggleable__label-arrow:before {content: \"▸\";float: left;margin-right: 0.25em;color: #696969;}#sk-container-id-2 label.sk-toggleable__label-arrow:hover:before {color: black;}#sk-container-id-2 div.sk-estimator:hover label.sk-toggleable__label-arrow:before {color: black;}#sk-container-id-2 div.sk-toggleable__content {max-height: 0;max-width: 0;overflow: hidden;text-align: left;background-color: #f0f8ff;}#sk-container-id-2 div.sk-toggleable__content pre {margin: 0.2em;color: black;border-radius: 0.25em;background-color: #f0f8ff;}#sk-container-id-2 input.sk-toggleable__control:checked~div.sk-toggleable__content {max-height: 200px;max-width: 100%;overflow: auto;}#sk-container-id-2 input.sk-toggleable__control:checked~label.sk-toggleable__label-arrow:before {content: \"▾\";}#sk-container-id-2 div.sk-estimator input.sk-toggleable__control:checked~label.sk-toggleable__label {background-color: #d4ebff;}#sk-container-id-2 div.sk-label input.sk-toggleable__control:checked~label.sk-toggleable__label {background-color: #d4ebff;}#sk-container-id-2 input.sk-hidden--visually {border: 0;clip: rect(1px 1px 1px 1px);clip: rect(1px, 1px, 1px, 1px);height: 1px;margin: -1px;overflow: hidden;padding: 0;position: absolute;width: 1px;}#sk-container-id-2 div.sk-estimator {font-family: monospace;background-color: #f0f8ff;border: 1px dotted black;border-radius: 0.25em;box-sizing: border-box;margin-bottom: 0.5em;}#sk-container-id-2 div.sk-estimator:hover {background-color: #d4ebff;}#sk-container-id-2 div.sk-parallel-item::after {content: \"\";width: 100%;border-bottom: 1px solid gray;flex-grow: 1;}#sk-container-id-2 div.sk-label:hover label.sk-toggleable__label {background-color: #d4ebff;}#sk-container-id-2 div.sk-serial::before {content: \"\";position: absolute;border-left: 1px solid gray;box-sizing: border-box;top: 0;bottom: 0;left: 50%;z-index: 0;}#sk-container-id-2 div.sk-serial {display: flex;flex-direction: column;align-items: center;background-color: white;padding-right: 0.2em;padding-left: 0.2em;position: relative;}#sk-container-id-2 div.sk-item {position: relative;z-index: 1;}#sk-container-id-2 div.sk-parallel {display: flex;align-items: stretch;justify-content: center;background-color: white;position: relative;}#sk-container-id-2 div.sk-item::before, #sk-container-id-2 div.sk-parallel-item::before {content: \"\";position: absolute;border-left: 1px solid gray;box-sizing: border-box;top: 0;bottom: 0;left: 50%;z-index: -1;}#sk-container-id-2 div.sk-parallel-item {display: flex;flex-direction: column;z-index: 1;position: relative;background-color: white;}#sk-container-id-2 div.sk-parallel-item:first-child::after {align-self: flex-end;width: 50%;}#sk-container-id-2 div.sk-parallel-item:last-child::after {align-self: flex-start;width: 50%;}#sk-container-id-2 div.sk-parallel-item:only-child::after {width: 0;}#sk-container-id-2 div.sk-dashed-wrapped {border: 1px dashed gray;margin: 0 0.4em 0.5em 0.4em;box-sizing: border-box;padding-bottom: 0.4em;background-color: white;}#sk-container-id-2 div.sk-label label {font-family: monospace;font-weight: bold;display: inline-block;line-height: 1.2em;}#sk-container-id-2 div.sk-label-container {text-align: center;}#sk-container-id-2 div.sk-container {/* jupyter's `normalize.less` sets `[hidden] { display: none; }` but bootstrap.min.css set `[hidden] { display: none !important; }` so we also need the `!important` here to be able to override the default hidden behavior on the sphinx rendered scikit-learn.org. See: https://github.com/scikit-learn/scikit-learn/issues/21755 */display: inline-block !important;position: relative;}#sk-container-id-2 div.sk-text-repr-fallback {display: none;}</style><div id=\"sk-container-id-2\" class=\"sk-top-container\"><div class=\"sk-text-repr-fallback\"><pre>DecisionTreeClassifier(random_state=42)</pre><b>In a Jupyter environment, please rerun this cell to show the HTML representation or trust the notebook. <br />On GitHub, the HTML representation is unable to render, please try loading this page with nbviewer.org.</b></div><div class=\"sk-container\" hidden><div class=\"sk-item\"><div class=\"sk-estimator sk-toggleable\"><input class=\"sk-toggleable__control sk-hidden--visually\" id=\"sk-estimator-id-2\" type=\"checkbox\" checked><label for=\"sk-estimator-id-2\" class=\"sk-toggleable__label sk-toggleable__label-arrow\">DecisionTreeClassifier</label><div class=\"sk-toggleable__content\"><pre>DecisionTreeClassifier(random_state=42)</pre></div></div></div></div></div>"
            ]
          },
          "metadata": {},
          "execution_count": 23
        }
      ],
      "source": [
        "from sklearn.tree import DecisionTreeClassifier\n",
        "\n",
        "# train a Decision Tree classifier on the dataset\n",
        "dt_model = DecisionTreeClassifier(random_state=42)\n",
        "dt_model.fit(X_train_tfidf, y_train)"
      ]
    },
    {
      "cell_type": "code",
      "execution_count": null,
      "id": "a0548834",
      "metadata": {
        "id": "a0548834"
      },
      "outputs": [],
      "source": [
        "# make predictions on the test set\n",
        "y_pred_dt = dt_model.predict(X_test_tfidf)"
      ]
    },
    {
      "cell_type": "code",
      "execution_count": null,
      "id": "c901ad98",
      "metadata": {
        "colab": {
          "base_uri": "https://localhost:8080/"
        },
        "id": "c901ad98",
        "outputId": "3dfbaf4a-4956-49a2-97ab-05417bd925a1"
      },
      "outputs": [
        {
          "output_type": "stream",
          "name": "stdout",
          "text": [
            "[[11482   779  5037]\n",
            " [ 1514   337   791]\n",
            " [ 5562   386 13798]]\n",
            "                 precision    recall  f1-score   support\n",
            "\n",
            "MachineLearning       0.62      0.66      0.64     17298\n",
            "     artificial       0.22      0.13      0.16      2642\n",
            "    datascience       0.70      0.70      0.70     19746\n",
            "\n",
            "       accuracy                           0.65     39686\n",
            "      macro avg       0.52      0.50      0.50     39686\n",
            "   weighted avg       0.63      0.65      0.64     39686\n",
            "\n",
            "Accuracy: 64.54921130877388 %\n"
          ]
        }
      ],
      "source": [
        "# evaluate the performance of the model\n",
        "print(confusion_matrix(y_test, y_pred_dt))\n",
        "print(classification_report(y_test, y_pred_dt))\n",
        "print(\"Accuracy:\", dt_model.score(X_test_tfidf, y_test)*100,\"%\")\n"
      ]
    },
    {
      "cell_type": "code",
      "execution_count": null,
      "id": "c2164be7",
      "metadata": {
        "colab": {
          "base_uri": "https://localhost:8080/",
          "height": 449
        },
        "id": "c2164be7",
        "outputId": "a1daf271-53d0-4c26-b373-848acb77efb9"
      },
      "outputs": [
        {
          "output_type": "display_data",
          "data": {
            "text/plain": [
              "<Figure size 640x480 with 2 Axes>"
            ],
            "image/png": "[encoded data removed]"
          },
          "metadata": {}
        }
      ],
      "source": [
        "cm=confusion_matrix(y_test, y_pred_dt)\n",
        "# Create heatmap of confusion matrix\n",
        "sns.heatmap(cm, annot=True, cmap='Blues')\n",
        "plt.xlabel('Predicted')\n",
        "plt.ylabel('Actual')\n",
        "plt.show()"
      ]
    },
    {
      "cell_type": "code",
      "source": [
        "# Define the decision tree classifier\n",
        "dt_model2 = DecisionTreeClassifier(random_state=42)\n",
        "\n",
        "# Define the search space for hyperparameters\n",
        "param_grid = {\n",
        "    'max_depth': [2, 4, 6, 8, 10],\n",
        "    'min_samples_split': [2, 5, 10],\n",
        "    'min_samples_leaf': [1, 2, 4],\n",
        "    'criterion': ['gini', 'entropy']\n",
        "}\n"
      ],
      "metadata": {
        "id": "NejY9DZKOP_p"
      },
      "id": "NejY9DZKOP_p",
      "execution_count": null,
      "outputs": []
    },
    {
      "cell_type": "code",
      "source": [
        "# Define the evaluation metric\n",
        "scorer = make_scorer(accuracy_score)\n"
      ],
      "metadata": {
        "id": "dQ6wtfXCOUFY"
      },
      "id": "dQ6wtfXCOUFY",
      "execution_count": null,
      "outputs": []
    },
    {
      "cell_type": "code",
      "source": [
        "# Define the grid search object\n",
        "grid_search = GridSearchCV(dt_model2, param_grid=param_grid, scoring=scorer, cv=5)"
      ],
      "metadata": {
        "id": "iX_DTtcOOUqG"
      },
      "id": "iX_DTtcOOUqG",
      "execution_count": null,
      "outputs": []
    },
    {
      "cell_type": "code",
      "source": [
        "# Fit the grid search object to the training data\n",
        "grid_search.fit(X_train_tfidf, y_train)"
      ],
      "metadata": {
        "colab": {
          "base_uri": "https://localhost:8080/",
          "height": 115
        },
        "id": "hJznW09gOYVA",
        "outputId": "6fa83106-bba7-42e9-dccd-86acec62756c"
      },
      "id": "hJznW09gOYVA",
      "execution_count": null,
      "outputs": [
        {
          "output_type": "execute_result",
          "data": {
            "text/plain": [
              "GridSearchCV(cv=5, estimator=DecisionTreeClassifier(random_state=42),\n",
              "             param_grid={'criterion': ['gini', 'entropy'],\n",
              "                         'max_depth': [2, 4, 6, 8, 10],\n",
              "                         'min_samples_leaf': [1, 2, 4],\n",
              "                         'min_samples_split': [2, 5, 10]},\n",
              "             scoring=make_scorer(accuracy_score))"
            ],
            "text/html": [
              "<style>#sk-container-id-3 {color: black;background-color: white;}#sk-container-id-3 pre{padding: 0;}#sk-container-id-3 div.sk-toggleable {background-color: white;}#sk-container-id-3 label.sk-toggleable__label {cursor: pointer;display: block;width: 100%;margin-bottom: 0;padding: 0.3em;box-sizing: border-box;text-align: center;}#sk-container-id-3 label.sk-toggleable__label-arrow:before {content: \"▸\";float: left;margin-right: 0.25em;color: #696969;}#sk-container-id-3 label.sk-toggleable__label-arrow:hover:before {color: black;}#sk-container-id-3 div.sk-estimator:hover label.sk-toggleable__label-arrow:before {color: black;}#sk-container-id-3 div.sk-toggleable__content {max-height: 0;max-width: 0;overflow: hidden;text-align: left;background-color: #f0f8ff;}#sk-container-id-3 div.sk-toggleable__content pre {margin: 0.2em;color: black;border-radius: 0.25em;background-color: #f0f8ff;}#sk-container-id-3 input.sk-toggleable__control:checked~div.sk-toggleable__content {max-height: 200px;max-width: 100%;overflow: auto;}#sk-container-id-3 input.sk-toggleable__control:checked~label.sk-toggleable__label-arrow:before {content: \"▾\";}#sk-container-id-3 div.sk-estimator input.sk-toggleable__control:checked~label.sk-toggleable__label {background-color: #d4ebff;}#sk-container-id-3 div.sk-label input.sk-toggleable__control:checked~label.sk-toggleable__label {background-color: #d4ebff;}#sk-container-id-3 input.sk-hidden--visually {border: 0;clip: rect(1px 1px 1px 1px);clip: rect(1px, 1px, 1px, 1px);height: 1px;margin: -1px;overflow: hidden;padding: 0;position: absolute;width: 1px;}#sk-container-id-3 div.sk-estimator {font-family: monospace;background-color: #f0f8ff;border: 1px dotted black;border-radius: 0.25em;box-sizing: border-box;margin-bottom: 0.5em;}#sk-container-id-3 div.sk-estimator:hover {background-color: #d4ebff;}#sk-container-id-3 div.sk-parallel-item::after {content: \"\";width: 100%;border-bottom: 1px solid gray;flex-grow: 1;}#sk-container-id-3 div.sk-label:hover label.sk-toggleable__label {background-color: #d4ebff;}#sk-container-id-3 div.sk-serial::before {content: \"\";position: absolute;border-left: 1px solid gray;box-sizing: border-box;top: 0;bottom: 0;left: 50%;z-index: 0;}#sk-container-id-3 div.sk-serial {display: flex;flex-direction: column;align-items: center;background-color: white;padding-right: 0.2em;padding-left: 0.2em;position: relative;}#sk-container-id-3 div.sk-item {position: relative;z-index: 1;}#sk-container-id-3 div.sk-parallel {display: flex;align-items: stretch;justify-content: center;background-color: white;position: relative;}#sk-container-id-3 div.sk-item::before, #sk-container-id-3 div.sk-parallel-item::before {content: \"\";position: absolute;border-left: 1px solid gray;box-sizing: border-box;top: 0;bottom: 0;left: 50%;z-index: -1;}#sk-container-id-3 div.sk-parallel-item {display: flex;flex-direction: column;z-index: 1;position: relative;background-color: white;}#sk-container-id-3 div.sk-parallel-item:first-child::after {align-self: flex-end;width: 50%;}#sk-container-id-3 div.sk-parallel-item:last-child::after {align-self: flex-start;width: 50%;}#sk-container-id-3 div.sk-parallel-item:only-child::after {width: 0;}#sk-container-id-3 div.sk-dashed-wrapped {border: 1px dashed gray;margin: 0 0.4em 0.5em 0.4em;box-sizing: border-box;padding-bottom: 0.4em;background-color: white;}#sk-container-id-3 div.sk-label label {font-family: monospace;font-weight: bold;display: inline-block;line-height: 1.2em;}#sk-container-id-3 div.sk-label-container {text-align: center;}#sk-container-id-3 div.sk-container {/* jupyter's `normalize.less` sets `[hidden] { display: none; }` but bootstrap.min.css set `[hidden] { display: none !important; }` so we also need the `!important` here to be able to override the default hidden behavior on the sphinx rendered scikit-learn.org. See: https://github.com/scikit-learn/scikit-learn/issues/21755 */display: inline-block !important;position: relative;}#sk-container-id-3 div.sk-text-repr-fallback {display: none;}</style><div id=\"sk-container-id-3\" class=\"sk-top-container\"><div class=\"sk-text-repr-fallback\"><pre>GridSearchCV(cv=5, estimator=DecisionTreeClassifier(random_state=42),\n",
              "             param_grid={&#x27;criterion&#x27;: [&#x27;gini&#x27;, &#x27;entropy&#x27;],\n",
              "                         &#x27;max_depth&#x27;: [2, 4, 6, 8, 10],\n",
              "                         &#x27;min_samples_leaf&#x27;: [1, 2, 4],\n",
              "                         &#x27;min_samples_split&#x27;: [2, 5, 10]},\n",
              "             scoring=make_scorer(accuracy_score))</pre><b>In a Jupyter environment, please rerun this cell to show the HTML representation or trust the notebook. <br />On GitHub, the HTML representation is unable to render, please try loading this page with nbviewer.org.</b></div><div class=\"sk-container\" hidden><div class=\"sk-item sk-dashed-wrapped\"><div class=\"sk-label-container\"><div class=\"sk-label sk-toggleable\"><input class=\"sk-toggleable__control sk-hidden--visually\" id=\"sk-estimator-id-3\" type=\"checkbox\" ><label for=\"sk-estimator-id-3\" class=\"sk-toggleable__label sk-toggleable__label-arrow\">GridSearchCV</label><div class=\"sk-toggleable__content\"><pre>GridSearchCV(cv=5, estimator=DecisionTreeClassifier(random_state=42),\n",
              "             param_grid={&#x27;criterion&#x27;: [&#x27;gini&#x27;, &#x27;entropy&#x27;],\n",
              "                         &#x27;max_depth&#x27;: [2, 4, 6, 8, 10],\n",
              "                         &#x27;min_samples_leaf&#x27;: [1, 2, 4],\n",
              "                         &#x27;min_samples_split&#x27;: [2, 5, 10]},\n",
              "             scoring=make_scorer(accuracy_score))</pre></div></div></div><div class=\"sk-parallel\"><div class=\"sk-parallel-item\"><div class=\"sk-item\"><div class=\"sk-label-container\"><div class=\"sk-label sk-toggleable\"><input class=\"sk-toggleable__control sk-hidden--visually\" id=\"sk-estimator-id-4\" type=\"checkbox\" ><label for=\"sk-estimator-id-4\" class=\"sk-toggleable__label sk-toggleable__label-arrow\">estimator: DecisionTreeClassifier</label><div class=\"sk-toggleable__content\"><pre>DecisionTreeClassifier(random_state=42)</pre></div></div></div><div class=\"sk-serial\"><div class=\"sk-item\"><div class=\"sk-estimator sk-toggleable\"><input class=\"sk-toggleable__control sk-hidden--visually\" id=\"sk-estimator-id-5\" type=\"checkbox\" ><label for=\"sk-estimator-id-5\" class=\"sk-toggleable__label sk-toggleable__label-arrow\">DecisionTreeClassifier</label><div class=\"sk-toggleable__content\"><pre>DecisionTreeClassifier(random_state=42)</pre></div></div></div></div></div></div></div></div></div></div>"
            ]
          },
          "metadata": {},
          "execution_count": 30
        }
      ]
    },
    {
      "cell_type": "code",
      "source": [
        "# Print the best hyperparameters and the corresponding accuracy score\n",
        "print(\"Best hyperparameters: \", grid_search.best_params_)\n",
        "print(\"Best accuracy score: \", grid_search.best_score_)"
      ],
      "metadata": {
        "colab": {
          "base_uri": "https://localhost:8080/"
        },
        "id": "l4z0tPZhObqE",
        "outputId": "7e82132b-e2aa-49b1-b7aa-97f6e906a2cd"
      },
      "id": "l4z0tPZhObqE",
      "execution_count": null,
      "outputs": [
        {
          "output_type": "stream",
          "name": "stdout",
          "text": [
            "Best hyperparameters:  {'criterion': 'gini', 'max_depth': 10, 'min_samples_leaf': 1, 'min_samples_split': 5}\n",
            "Best accuracy score:  0.576209056045801\n"
          ]
        }
      ]
    },
    {
      "cell_type": "code",
      "source": [
        "# Use the best hyperparameters to train a new model\n",
        "best_dt_model = DecisionTreeClassifier(random_state=42, **grid_search.best_params_)\n",
        "best_dt_model.fit(X_train_tfidf, y_train)"
      ],
      "metadata": {
        "colab": {
          "base_uri": "https://localhost:8080/",
          "height": 74
        },
        "id": "drTXQFIIOefB",
        "outputId": "a809a843-2f77-4782-f406-cde3eec8b251"
      },
      "id": "drTXQFIIOefB",
      "execution_count": null,
      "outputs": [
        {
          "output_type": "execute_result",
          "data": {
            "text/plain": [
              "DecisionTreeClassifier(max_depth=10, min_samples_split=5, random_state=42)"
            ],
            "text/html": [
              "<style>#sk-container-id-4 {color: black;background-color: white;}#sk-container-id-4 pre{padding: 0;}#sk-container-id-4 div.sk-toggleable {background-color: white;}#sk-container-id-4 label.sk-toggleable__label {cursor: pointer;display: block;width: 100%;margin-bottom: 0;padding: 0.3em;box-sizing: border-box;text-align: center;}#sk-container-id-4 label.sk-toggleable__label-arrow:before {content: \"▸\";float: left;margin-right: 0.25em;color: #696969;}#sk-container-id-4 label.sk-toggleable__label-arrow:hover:before {color: black;}#sk-container-id-4 div.sk-estimator:hover label.sk-toggleable__label-arrow:before {color: black;}#sk-container-id-4 div.sk-toggleable__content {max-height: 0;max-width: 0;overflow: hidden;text-align: left;background-color: #f0f8ff;}#sk-container-id-4 div.sk-toggleable__content pre {margin: 0.2em;color: black;border-radius: 0.25em;background-color: #f0f8ff;}#sk-container-id-4 input.sk-toggleable__control:checked~div.sk-toggleable__content {max-height: 200px;max-width: 100%;overflow: auto;}#sk-container-id-4 input.sk-toggleable__control:checked~label.sk-toggleable__label-arrow:before {content: \"▾\";}#sk-container-id-4 div.sk-estimator input.sk-toggleable__control:checked~label.sk-toggleable__label {background-color: #d4ebff;}#sk-container-id-4 div.sk-label input.sk-toggleable__control:checked~label.sk-toggleable__label {background-color: #d4ebff;}#sk-container-id-4 input.sk-hidden--visually {border: 0;clip: rect(1px 1px 1px 1px);clip: rect(1px, 1px, 1px, 1px);height: 1px;margin: -1px;overflow: hidden;padding: 0;position: absolute;width: 1px;}#sk-container-id-4 div.sk-estimator {font-family: monospace;background-color: #f0f8ff;border: 1px dotted black;border-radius: 0.25em;box-sizing: border-box;margin-bottom: 0.5em;}#sk-container-id-4 div.sk-estimator:hover {background-color: #d4ebff;}#sk-container-id-4 div.sk-parallel-item::after {content: \"\";width: 100%;border-bottom: 1px solid gray;flex-grow: 1;}#sk-container-id-4 div.sk-label:hover label.sk-toggleable__label {background-color: #d4ebff;}#sk-container-id-4 div.sk-serial::before {content: \"\";position: absolute;border-left: 1px solid gray;box-sizing: border-box;top: 0;bottom: 0;left: 50%;z-index: 0;}#sk-container-id-4 div.sk-serial {display: flex;flex-direction: column;align-items: center;background-color: white;padding-right: 0.2em;padding-left: 0.2em;position: relative;}#sk-container-id-4 div.sk-item {position: relative;z-index: 1;}#sk-container-id-4 div.sk-parallel {display: flex;align-items: stretch;justify-content: center;background-color: white;position: relative;}#sk-container-id-4 div.sk-item::before, #sk-container-id-4 div.sk-parallel-item::before {content: \"\";position: absolute;border-left: 1px solid gray;box-sizing: border-box;top: 0;bottom: 0;left: 50%;z-index: -1;}#sk-container-id-4 div.sk-parallel-item {display: flex;flex-direction: column;z-index: 1;position: relative;background-color: white;}#sk-container-id-4 div.sk-parallel-item:first-child::after {align-self: flex-end;width: 50%;}#sk-container-id-4 div.sk-parallel-item:last-child::after {align-self: flex-start;width: 50%;}#sk-container-id-4 div.sk-parallel-item:only-child::after {width: 0;}#sk-container-id-4 div.sk-dashed-wrapped {border: 1px dashed gray;margin: 0 0.4em 0.5em 0.4em;box-sizing: border-box;padding-bottom: 0.4em;background-color: white;}#sk-container-id-4 div.sk-label label {font-family: monospace;font-weight: bold;display: inline-block;line-height: 1.2em;}#sk-container-id-4 div.sk-label-container {text-align: center;}#sk-container-id-4 div.sk-container {/* jupyter's `normalize.less` sets `[hidden] { display: none; }` but bootstrap.min.css set `[hidden] { display: none !important; }` so we also need the `!important` here to be able to override the default hidden behavior on the sphinx rendered scikit-learn.org. See: https://github.com/scikit-learn/scikit-learn/issues/21755 */display: inline-block !important;position: relative;}#sk-container-id-4 div.sk-text-repr-fallback {display: none;}</style><div id=\"sk-container-id-4\" class=\"sk-top-container\"><div class=\"sk-text-repr-fallback\"><pre>DecisionTreeClassifier(max_depth=10, min_samples_split=5, random_state=42)</pre><b>In a Jupyter environment, please rerun this cell to show the HTML representation or trust the notebook. <br />On GitHub, the HTML representation is unable to render, please try loading this page with nbviewer.org.</b></div><div class=\"sk-container\" hidden><div class=\"sk-item\"><div class=\"sk-estimator sk-toggleable\"><input class=\"sk-toggleable__control sk-hidden--visually\" id=\"sk-estimator-id-6\" type=\"checkbox\" checked><label for=\"sk-estimator-id-6\" class=\"sk-toggleable__label sk-toggleable__label-arrow\">DecisionTreeClassifier</label><div class=\"sk-toggleable__content\"><pre>DecisionTreeClassifier(max_depth=10, min_samples_split=5, random_state=42)</pre></div></div></div></div></div>"
            ]
          },
          "metadata": {},
          "execution_count": 32
        }
      ]
    },
    {
      "cell_type": "code",
      "source": [
        "# Make predictions on the test set\n",
        "y_pred_dt = best_dt_model.predict(X_test_tfidf)\n",
        "# Accuracy scores\n",
        "print(\"Accuracy:\", best_dt_model.score(X_test_tfidf, y_test)*100,\"%\")"
      ],
      "metadata": {
        "colab": {
          "base_uri": "https://localhost:8080/"
        },
        "id": "G9htLUwvOhjG",
        "outputId": "b6678159-2475-41cc-c1d8-ea02f17d2b14"
      },
      "id": "G9htLUwvOhjG",
      "execution_count": null,
      "outputs": [
        {
          "output_type": "stream",
          "name": "stdout",
          "text": [
            "Accuracy: 57.23680895025953 %\n"
          ]
        }
      ]
    },
    {
      "cell_type": "code",
      "source": [
        "# Create a graph to visualize the Accuracy for both models\n",
        "fig, ax = plt.subplots()\n",
        "models = ['Default', 'Hyperparameter Tuned']\n",
        "Accuracy_dt = [dt_model.score(X_test_tfidf, y_test), best_dt_model.score(X_test_tfidf, y_test)]\n",
        "ax.bar(models, Accuracy_dt)\n",
        "plt.ylabel('F1-score')\n",
        "plt.title('Comparison of Accuracy for Decision Tree models')\n",
        "plt.show()"
      ],
      "metadata": {
        "colab": {
          "base_uri": "https://localhost:8080/",
          "height": 452
        },
        "id": "vyF_29NQO-PV",
        "outputId": "d2279906-2580-4266-9988-8a0bfc786674"
      },
      "id": "vyF_29NQO-PV",
      "execution_count": null,
      "outputs": [
        {
          "output_type": "display_data",
          "data": {
            "text/plain": [
              "<Figure size 640x480 with 1 Axes>"
            ],
            "image/png": "[encoded data removed]"
          },
          "metadata": {}
        }
      ]
    },
    {
      "cell_type": "markdown",
      "id": "88810f63",
      "metadata": {
        "id": "88810f63"
      },
      "source": [
        "## Logistic Regression"
      ]
    },
    {
      "cell_type": "code",
      "execution_count": null,
      "id": "14728cd2",
      "metadata": {
        "id": "14728cd2"
      },
      "outputs": [],
      "source": [
        "from sklearn.linear_model import LogisticRegression\n",
        "\n",
        "# create a Logistic Regression model\n",
        "lr_model = LogisticRegression()"
      ]
    },
    {
      "cell_type": "code",
      "execution_count": null,
      "id": "537bf400",
      "metadata": {
        "colab": {
          "base_uri": "https://localhost:8080/",
          "height": 230
        },
        "id": "537bf400",
        "outputId": "9758f971-7dd2-47b1-a8c2-31405c6f42ab"
      },
      "outputs": [
        {
          "output_type": "stream",
          "name": "stderr",
          "text": [
            "/usr/local/lib/python3.10/dist-packages/sklearn/linear_model/_logistic.py:458: ConvergenceWarning: lbfgs failed to converge (status=1):\n",
            "STOP: TOTAL NO. of ITERATIONS REACHED LIMIT.\n",
            "\n",
            "Increase the number of iterations (max_iter) or scale the data as shown in:\n",
            "    https://scikit-learn.org/stable/modules/preprocessing.html\n",
            "Please also refer to the documentation for alternative solver options:\n",
            "    https://scikit-learn.org/stable/modules/linear_model.html#logistic-regression\n",
            "  n_iter_i = _check_optimize_result(\n"
          ]
        },
        {
          "output_type": "execute_result",
          "data": {
            "text/plain": [
              "LogisticRegression()"
            ],
            "text/html": [
              "<style>#sk-container-id-5 {color: black;background-color: white;}#sk-container-id-5 pre{padding: 0;}#sk-container-id-5 div.sk-toggleable {background-color: white;}#sk-container-id-5 label.sk-toggleable__label {cursor: pointer;display: block;width: 100%;margin-bottom: 0;padding: 0.3em;box-sizing: border-box;text-align: center;}#sk-container-id-5 label.sk-toggleable__label-arrow:before {content: \"▸\";float: left;margin-right: 0.25em;color: #696969;}#sk-container-id-5 label.sk-toggleable__label-arrow:hover:before {color: black;}#sk-container-id-5 div.sk-estimator:hover label.sk-toggleable__label-arrow:before {color: black;}#sk-container-id-5 div.sk-toggleable__content {max-height: 0;max-width: 0;overflow: hidden;text-align: left;background-color: #f0f8ff;}#sk-container-id-5 div.sk-toggleable__content pre {margin: 0.2em;color: black;border-radius: 0.25em;background-color: #f0f8ff;}#sk-container-id-5 input.sk-toggleable__control:checked~div.sk-toggleable__content {max-height: 200px;max-width: 100%;overflow: auto;}#sk-container-id-5 input.sk-toggleable__control:checked~label.sk-toggleable__label-arrow:before {content: \"▾\";}#sk-container-id-5 div.sk-estimator input.sk-toggleable__control:checked~label.sk-toggleable__label {background-color: #d4ebff;}#sk-container-id-5 div.sk-label input.sk-toggleable__control:checked~label.sk-toggleable__label {background-color: #d4ebff;}#sk-container-id-5 input.sk-hidden--visually {border: 0;clip: rect(1px 1px 1px 1px);clip: rect(1px, 1px, 1px, 1px);height: 1px;margin: -1px;overflow: hidden;padding: 0;position: absolute;width: 1px;}#sk-container-id-5 div.sk-estimator {font-family: monospace;background-color: #f0f8ff;border: 1px dotted black;border-radius: 0.25em;box-sizing: border-box;margin-bottom: 0.5em;}#sk-container-id-5 div.sk-estimator:hover {background-color: #d4ebff;}#sk-container-id-5 div.sk-parallel-item::after {content: \"\";width: 100%;border-bottom: 1px solid gray;flex-grow: 1;}#sk-container-id-5 div.sk-label:hover label.sk-toggleable__label {background-color: #d4ebff;}#sk-container-id-5 div.sk-serial::before {content: \"\";position: absolute;border-left: 1px solid gray;box-sizing: border-box;top: 0;bottom: 0;left: 50%;z-index: 0;}#sk-container-id-5 div.sk-serial {display: flex;flex-direction: column;align-items: center;background-color: white;padding-right: 0.2em;padding-left: 0.2em;position: relative;}#sk-container-id-5 div.sk-item {position: relative;z-index: 1;}#sk-container-id-5 div.sk-parallel {display: flex;align-items: stretch;justify-content: center;background-color: white;position: relative;}#sk-container-id-5 div.sk-item::before, #sk-container-id-5 div.sk-parallel-item::before {content: \"\";position: absolute;border-left: 1px solid gray;box-sizing: border-box;top: 0;bottom: 0;left: 50%;z-index: -1;}#sk-container-id-5 div.sk-parallel-item {display: flex;flex-direction: column;z-index: 1;position: relative;background-color: white;}#sk-container-id-5 div.sk-parallel-item:first-child::after {align-self: flex-end;width: 50%;}#sk-container-id-5 div.sk-parallel-item:last-child::after {align-self: flex-start;width: 50%;}#sk-container-id-5 div.sk-parallel-item:only-child::after {width: 0;}#sk-container-id-5 div.sk-dashed-wrapped {border: 1px dashed gray;margin: 0 0.4em 0.5em 0.4em;box-sizing: border-box;padding-bottom: 0.4em;background-color: white;}#sk-container-id-5 div.sk-label label {font-family: monospace;font-weight: bold;display: inline-block;line-height: 1.2em;}#sk-container-id-5 div.sk-label-container {text-align: center;}#sk-container-id-5 div.sk-container {/* jupyter's `normalize.less` sets `[hidden] { display: none; }` but bootstrap.min.css set `[hidden] { display: none !important; }` so we also need the `!important` here to be able to override the default hidden behavior on the sphinx rendered scikit-learn.org. See: https://github.com/scikit-learn/scikit-learn/issues/21755 */display: inline-block !important;position: relative;}#sk-container-id-5 div.sk-text-repr-fallback {display: none;}</style><div id=\"sk-container-id-5\" class=\"sk-top-container\"><div class=\"sk-text-repr-fallback\"><pre>LogisticRegression()</pre><b>In a Jupyter environment, please rerun this cell to show the HTML representation or trust the notebook. <br />On GitHub, the HTML representation is unable to render, please try loading this page with nbviewer.org.</b></div><div class=\"sk-container\" hidden><div class=\"sk-item\"><div class=\"sk-estimator sk-toggleable\"><input class=\"sk-toggleable__control sk-hidden--visually\" id=\"sk-estimator-id-7\" type=\"checkbox\" checked><label for=\"sk-estimator-id-7\" class=\"sk-toggleable__label sk-toggleable__label-arrow\">LogisticRegression</label><div class=\"sk-toggleable__content\"><pre>LogisticRegression()</pre></div></div></div></div></div>"
            ]
          },
          "metadata": {},
          "execution_count": 36
        }
      ],
      "source": [
        "# train the model on the training data\n",
        "lr_model.fit(X_train_tfidf, y_train)"
      ]
    },
    {
      "cell_type": "code",
      "execution_count": null,
      "id": "77f0231d",
      "metadata": {
        "id": "77f0231d"
      },
      "outputs": [],
      "source": [
        "# make predictions on the test set\n",
        "y_pred_lr = lr_model.predict(X_test_tfidf)"
      ]
    },
    {
      "cell_type": "code",
      "execution_count": null,
      "id": "00734d8a",
      "metadata": {
        "id": "00734d8a",
        "colab": {
          "base_uri": "https://localhost:8080/"
        },
        "outputId": "7a2197e0-fb8e-4c0a-f77e-4c509fdfad62"
      },
      "outputs": [
        {
          "output_type": "stream",
          "name": "stdout",
          "text": [
            "[[12542   195  4561]\n",
            " [ 1657   271   714]\n",
            " [ 3408    59 16279]]\n",
            "                 precision    recall  f1-score   support\n",
            "\n",
            "MachineLearning       0.71      0.73      0.72     17298\n",
            "     artificial       0.52      0.10      0.17      2642\n",
            "    datascience       0.76      0.82      0.79     19746\n",
            "\n",
            "       accuracy                           0.73     39686\n",
            "      macro avg       0.66      0.55      0.56     39686\n",
            "   weighted avg       0.72      0.73      0.72     39686\n",
            "\n",
            "The accuracy for the logistic regression is 0.733054477649549\n"
          ]
        }
      ],
      "source": [
        "# evaluate the performance of the model\n",
        "cm_lr = confusion_matrix(y_test, y_pred_lr)\n",
        "cr_lr = classification_report(y_test, y_pred_lr)\n",
        "accuracy_lr = lr_model.score(X_test_tfidf, y_test)\n",
        "print(cm_lr)\n",
        "print(cr_lr)\n",
        "print(\"The accuracy for the logistic regression is\",accuracy_lr)\n"
      ]
    },
    {
      "cell_type": "code",
      "execution_count": null,
      "id": "7d5cf4cd",
      "metadata": {
        "colab": {
          "base_uri": "https://localhost:8080/",
          "height": 449
        },
        "id": "7d5cf4cd",
        "outputId": "ed4d46f4-f51d-4ea3-d06d-63c9d1acd7e1"
      },
      "outputs": [
        {
          "output_type": "display_data",
          "data": {
            "text/plain": [
              "<Figure size 640x480 with 2 Axes>"
            ],
            "image/png": "[encoded data removed]"
          },
          "metadata": {}
        }
      ],
      "source": [
        "# Create heatmap of confusion matrix\n",
        "sns.heatmap(cm_lr, annot=True, cmap='Blues')\n",
        "plt.xlabel('Predicted')\n",
        "plt.ylabel('Actual')\n",
        "plt.show()"
      ]
    },
    {
      "cell_type": "code",
      "source": [
        "# Train the default Logistic Regression model on the dataset\n",
        "lr_model = LogisticRegression(random_state=42)\n",
        "lr_model.fit(X_train_tfidf, y_train)\n",
        "\n",
        "# Train the hyperparameter-tuned Logistic Regression model on the dataset\n",
        "# Define the search space for hyperparameters\n",
        "param_grid_lr = {\n",
        "    'penalty': ['l1', 'l2'],\n",
        "    'C': [0.1, 0.5, 1.0, 1.5, 2.0],\n",
        "    'solver': ['liblinear', 'saga']\n",
        "}"
      ],
      "metadata": {
        "id": "b-q1ijvoMONm"
      },
      "id": "b-q1ijvoMONm",
      "execution_count": null,
      "outputs": []
    },
    {
      "cell_type": "code",
      "source": [
        "# Evaluate the performance of the default Logistic Regression model\n",
        "y_pred_lr_default = lr_model.predict(X_test_tfidf)\n",
        "acc_lr_default = accuracy_score(y_test, y_pred_lr_default)"
      ],
      "metadata": {
        "id": "f5pQBm1bNEGt"
      },
      "id": "f5pQBm1bNEGt",
      "execution_count": null,
      "outputs": []
    },
    {
      "cell_type": "code",
      "source": [
        "lr_model_tuned = GridSearchCV(LogisticRegression(random_state=42), param_grid=param_grid_lr, cv=5)\n",
        "lr_model_tuned.fit(X_train_tfidf, y_train)"
      ],
      "metadata": {
        "id": "zL8PlyS0NE6M"
      },
      "id": "zL8PlyS0NE6M",
      "execution_count": null,
      "outputs": []
    },
    {
      "cell_type": "code",
      "source": [
        "# Evaluate the performance of the hyperparameter-tuned Logistic Regression model\n",
        "y_pred_lr_tuned = lr_model_tuned.predict(X_test_tfidf)\n",
        "acc_lr_tuned = accuracy_score(y_test, y_pred_lr_tuned)"
      ],
      "metadata": {
        "id": "2jCq2Q15NLB4"
      },
      "id": "2jCq2Q15NLB4",
      "execution_count": null,
      "outputs": []
    },
    {
      "cell_type": "code",
      "source": [
        "# Compare the accuracy scores of the models\n",
        "print('Accuracy score of the default Logistic Regression model:', acc_lr_default)\n",
        "print('Accuracy score of the hyperparameter-tuned Logistic Regression model:', acc_lr_tuned)"
      ],
      "metadata": {
        "id": "bhXuQEjcNYZT",
        "colab": {
          "base_uri": "https://localhost:8080/"
        },
        "outputId": "94731e2e-5c07-4674-de30-807a1a24859e"
      },
      "id": "bhXuQEjcNYZT",
      "execution_count": null,
      "outputs": [
        {
          "output_type": "stream",
          "name": "stdout",
          "text": [
            "Accuracy score of the default Logistic Regression model: 0.733054477649549\n",
            "Accuracy score of the hyperparameter-tuned Logistic Regression model: 0.7388751700851686\n"
          ]
        }
      ]
    },
    {
      "cell_type": "code",
      "source": [
        "# Create a bar chart to compare the accuracy of the models\n",
        "models = ['Default Logistic Regression', 'Hyperparameter-tuned Logistic Regression']\n",
        "accuracy_scores = [acc_lr_default, acc_lr_tuned]\n",
        "\n",
        "plt.bar(models, accuracy_scores, color='blue')\n",
        "plt.title('Comparison of Accuracy Scores')\n",
        "plt.xlabel('Models')\n",
        "plt.ylabel('Accuracy Score')\n",
        "plt.ylim([0, 1])\n",
        "plt.show()"
      ],
      "metadata": {
        "id": "3Q8ApYK3NdAW",
        "colab": {
          "base_uri": "https://localhost:8080/",
          "height": 472
        },
        "outputId": "2973550e-4c74-48b1-bbe2-4c9279730cb9"
      },
      "id": "3Q8ApYK3NdAW",
      "execution_count": null,
      "outputs": [
        {
          "output_type": "display_data",
          "data": {
            "text/plain": [
              "<Figure size 640x480 with 1 Axes>"
            ],
            "image/png": "[encoded data removed]"
          },
          "metadata": {}
        }
      ]
    },
    {
      "cell_type": "code",
      "execution_count": null,
      "id": "99190c00",
      "metadata": {
        "id": "99190c00",
        "colab": {
          "base_uri": "https://localhost:8080/",
          "height": 556
        },
        "outputId": "64023605-4c4d-46d6-f350-87d0c402293e"
      },
      "outputs": [
        {
          "output_type": "display_data",
          "data": {
            "text/plain": [
              "<Figure size 1800x1000 with 1 Axes>"
            ],
            "image/png": "[encoded data removed]"
          },
          "metadata": {}
        }
      ],
      "source": [
        "# Model comparision\n",
        "# Accuracy scores for different models\n",
        "accuracies = [acc_nb, \n",
        "              dt_model.score(X_test_tfidf, y_test), \n",
        "               accuracy_lr]\n",
        "\n",
        "# Model names\n",
        "models = ['Naive Bayes',  'Decision Tree',   'Logistic Regression']\n",
        "\n",
        "# Create a bar chart to compare the performance of different models\n",
        "plt.figure(figsize=(18, 10))\n",
        "plt.bar(models, accuracies)\n",
        "plt.ylim([0, 1])\n",
        "plt.title('Comparison of Model Performance')\n",
        "plt.xlabel('Machine Learning Model')\n",
        "plt.ylabel('Accuracy Score')\n",
        "plt.show()"
      ]
    },
    {
      "cell_type": "code",
      "source": [
        "# Predict the category of a given comment\n",
        "comment = \"I love data science but hate data engineering\"\n",
        "comment_tfidf = tfidf_vectorizer.transform([comment.lower()])\n",
        "nb_prediction = nb.predict(comment_tfidf)[0]\n",
        "print('Naive bayes prediction:', nb_prediction)\n",
        "dt_prediction = dt_model.predict(comment_tfidf)[0]\n",
        "print(\"Decision Tree prediction:\", dt_prediction)\n",
        "lr_prediction = lr_model.predict(comment_tfidf)[0]\n",
        "print(\"Logistic Regression prediction:\", lr_prediction)"
      ],
      "metadata": {
        "id": "faj3OLeIDy4P",
        "colab": {
          "base_uri": "https://localhost:8080/"
        },
        "outputId": "146d3185-f114-4847-9d39-7faea550cfad"
      },
      "id": "faj3OLeIDy4P",
      "execution_count": null,
      "outputs": [
        {
          "output_type": "stream",
          "name": "stdout",
          "text": [
            "Naive bayes prediction: datascience\n",
            "Decision Tree prediction: datascience\n",
            "Logistic Regression prediction: datascience\n"
          ]
        }
      ]
    }
  ],
  "metadata": {
    "colab": {
      "provenance": []
    },
    "kernelspec": {
      "display_name": "Python 3 (ipykernel)",
      "language": "python",
      "name": "python3"
    },
    "language_info": {
      "codemirror_mode": {
        "name": "ipython",
        "version": 3
      },
      "file_extension": ".py",
      "mimetype": "text/x-python",
      "name": "python",
      "nbconvert_exporter": "python",
      "pygments_lexer": "ipython3",
      "version": "3.10.9"
    }
  },
  "nbformat": 4,
  "nbformat_minor": 5
}